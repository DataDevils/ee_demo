{
 "cells": [
  {
   "cell_type": "markdown",
   "metadata": {},
   "source": [
    "## Data Extraction - July 11"
   ]
  },
  {
   "cell_type": "code",
   "execution_count": 7,
   "metadata": {},
   "outputs": [],
   "source": [
    "#Initialize ee\n",
    "import ee\n",
    "ee.Initialize()"
   ]
  },
  {
   "cell_type": "code",
   "execution_count": 8,
   "metadata": {},
   "outputs": [],
   "source": [
    "#Import other packages\n",
    "import pandas as pd\n",
    "from IPython.display import Image"
   ]
  },
  {
   "cell_type": "code",
   "execution_count": 9,
   "metadata": {},
   "outputs": [],
   "source": [
    "#Import the coordinate data as a dataframe\n",
    "dfPoints = pd.read_csv('../data/station_locations.csv',index_col='id')"
   ]
  },
  {
   "cell_type": "markdown",
   "metadata": {},
   "source": [
    "Image collections: \n",
    "* [MODOCGA.006 Terra Ocean Reflectance Daily Global 1km](https://explorer.earthengine.google.com/#detail/MODIS%2F006%2FMODOCGA)\n",
    "* [MYDOCGA.006 Aqua Ocean Reflectance Daily Global 1km](https://explorer.earthengine.google.com/#detail/MODIS%2F006%2FMYDOCGA)\n",
    "* [MOD09A1.006 Terra Surface Reflectance 8-Day Global 500m](https://explorer.earthengine.google.com/#detail/MODIS%2F006%2FMOD09A1)\n",
    "* [Sentinel-3 OLCI EFR: Ocean and Land Color Instrument Earth Observation Full Resolution](https://explorer.earthengine.google.com/#detail/COPERNICUS%2FS3%2FOLCI)"
   ]
  },
  {
   "cell_type": "code",
   "execution_count": 10,
   "metadata": {},
   "outputs": [],
   "source": [
    "#Get the image collections\n",
    "colMODIS = ee.ImageCollection('MODIS/006/MOD09A1')\n",
    "colMODISTerra = ee.ImageCollection('MODIS/006/MODOCGA')\n",
    "colMODISAqua = ee.ImageCollection('MODIS/006/MYDOCGA')\n",
    "colS3 = ee.ImageCollection('COPERNICUS/S3/OLCI')"
   ]
  },
  {
   "cell_type": "code",
   "execution_count": 11,
   "metadata": {},
   "outputs": [],
   "source": [
    "#Filter bands (MODIS daily sensors have odd-bit bands at last 4 slots)\n",
    "AquaBands = pd.DataFrame.from_dict(colMODISAqua.first().getInfo()['bands'])['id'].tolist()\n",
    "TerraBands = pd.DataFrame.from_dict(colMODISTerra.first().getInfo()['bands'])['id'].tolist()\n",
    "\n",
    "colMODISTerra_1 = colMODISTerra.select(TerraBands[:-4])\n",
    "colMODISAqua_1 = colMODISAqua.select(AquaBands[:-4])"
   ]
  },
  {
   "cell_type": "code",
   "execution_count": 12,
   "metadata": {},
   "outputs": [],
   "source": [
    "#Filter on time\n",
    "startDate = '2015-03-16'\n",
    "endDate = '2018-06-01'\n",
    "#colMODIS = colMODIS.filterDate(startDate, endDate)"
   ]
  },
  {
   "cell_type": "code",
   "execution_count": 13,
   "metadata": {},
   "outputs": [
    {
     "name": "stdout",
     "output_type": "stream",
     "text": [
      "844 images returned\n"
     ]
    }
   ],
   "source": [
    "#Report how many images selected\n",
    "imageCount = colMODIS.size().getInfo()\n",
    "print(\"{} images returned\".format(imageCount))"
   ]
  },
  {
   "cell_type": "code",
   "execution_count": 14,
   "metadata": {},
   "outputs": [
    {
     "data": {
      "text/html": [
       "<img src=\"https://earthengine.googleapis.com/api/thumb?thumbid=88fc8af322c714b380edbe16493b821a&token=806e51553242526eae6d6d26ad945cf3\"/>"
      ],
      "text/plain": [
       "<IPython.core.display.Image object>"
      ]
     },
     "execution_count": 14,
     "metadata": {},
     "output_type": "execute_result"
    }
   ],
   "source": [
    "#Get the first image and show it's thumb\n",
    "scene = ee.Image(colMODIS.first())\n",
    "Image(url=scene.getThumbURL({min:0,max:0.3,}))"
   ]
  },
  {
   "cell_type": "markdown",
   "metadata": {},
   "source": [
    "Iterate through each location and extract data "
   ]
  },
  {
   "cell_type": "code",
   "execution_count": 15,
   "metadata": {},
   "outputs": [],
   "source": [
    "def getData(idx,df,imgCollection,startDate,endDate,verbose=False):\n",
    "    #Get the record at the index\n",
    "    rec = dfPoints.iloc[idx]\n",
    "    \n",
    "    #Get the name of the record\n",
    "    name = rec['name']\n",
    "    \n",
    "    #Get the coordinates and create a point object\n",
    "    coords = rec[['lon','lat']].tolist()\n",
    "    ptGeom = ee.Geometry.Point(coords)\n",
    "    \n",
    "    #Filter the image collection on the dates\n",
    "    dateColl = imgCollection.filterDate(startDate,endDate)\n",
    "    if verbose:\n",
    "        print(\"{} images in date range\".format(dateColl.size().getInfo()))\n",
    "    \n",
    "    #Filter the image collection on the point\n",
    "    ptColl = dateColl.filterBounds(ptGeom)\n",
    "    if verbose:\n",
    "        print(\"{} images in geographic range\".format(ptColl.size().getInfo()))\n",
    "    \n",
    "    #Extract information at the point\n",
    "    ptInfo = ptColl.getRegion(ptGeom,1).getInfo()\n",
    "    \n",
    "    #Convert everything but the first row to a dataframe\n",
    "    dfData = pd.DataFrame(ptInfo[1:])\n",
    "    \n",
    "    #Set the columns to the first row\n",
    "    dfData.columns = ptInfo[0]\n",
    "    \n",
    "    #Convert timestamp to a time\n",
    "    dfData['time'] = pd.to_datetime(dfData['time']/1000,unit='s')\n",
    "    \n",
    "    #Insert the name as a column value\n",
    "    dfData.insert(0,'name',name)\n",
    "    \n",
    "    #Return the dataframe\n",
    "    return dfData"
   ]
  },
  {
   "cell_type": "code",
   "execution_count": 16,
   "metadata": {},
   "outputs": [
    {
     "name": "stdout",
     "output_type": "stream",
     "text": [
      "0 1 2 3 4 5 6 7 8 9 10 11 12 13 14 15 16 17 18 19 20 21 22 23 "
     ]
    }
   ],
   "source": [
    "#MODIS 8-day\n",
    "dfs = []\n",
    "for idx in range(len(dfPoints)):\n",
    "    print(idx,end=' ')\n",
    "    dfX = getData(idx,dfPoints,colMODIS,startDate,endDate)\n",
    "    dfs.append(dfX)\n",
    "dfOut = pd.concat(dfs)\n",
    "dfOut.to_csv(\"../data/MODIS.csv\",index=False)"
   ]
  },
  {
   "cell_type": "code",
   "execution_count": 17,
   "metadata": {},
   "outputs": [
    {
     "name": "stdout",
     "output_type": "stream",
     "text": [
      "0 1 2 3 4 5 6 7 8 9 10 11 12 13 14 15 16 17 18 19 20 21 22 23 "
     ]
    }
   ],
   "source": [
    "#MODIS Terra\n",
    "dfs = []\n",
    "for idx in range(len(dfPoints)):\n",
    "    print(idx,end=' ')\n",
    "    dfX = getData(idx,dfPoints,colMODISTerra_1,startDate,endDate)\n",
    "    dfs.append(dfX)\n",
    "dfOut = pd.concat(dfs)\n",
    "dfOut.to_csv(\"../data/MODISTerra.csv\",index=False)"
   ]
  },
  {
   "cell_type": "code",
   "execution_count": 18,
   "metadata": {},
   "outputs": [
    {
     "name": "stdout",
     "output_type": "stream",
     "text": [
      "0 1 2 3 4 5 6 7 8 9 10 11 12 13 14 15 16 17 18 19 20 21 22 23 "
     ]
    }
   ],
   "source": [
    "#MODIS Aqua\n",
    "dfs = []\n",
    "for idx in range(len(dfPoints)):\n",
    "    print(idx,end=' ')\n",
    "    dfX = getData(idx,dfPoints,colMODISAqua_1,startDate,endDate)\n",
    "    dfs.append(dfX)\n",
    "dfOut = pd.concat(dfs)\n",
    "dfOut.to_csv(\"../data/MODISAqua.csv\",index=False)"
   ]
  },
  {
   "cell_type": "code",
   "execution_count": 19,
   "metadata": {},
   "outputs": [
    {
     "name": "stdout",
     "output_type": "stream",
     "text": [
      "0 1 2 "
     ]
    }
   ],
   "source": [
    "#MODIS Aqua\n",
    "dfs = []\n",
    "for idx in range(3):\n",
    "    print(idx,end=' ')\n",
    "    dfX = getData(idx,dfPoints,colMODISAqua_1,startDate,endDate)\n",
    "    dfs.append(dfX)\n",
    "dfOut = pd.concat(dfs)\n",
    "dfOut.to_csv(\"../data/MODISAquaX.csv\",index=False)"
   ]
  }
 ],
 "metadata": {
  "kernelspec": {
   "display_name": "Python 3",
   "language": "python",
   "name": "python3"
  },
  "language_info": {
   "codemirror_mode": {
    "name": "ipython",
    "version": 3
   },
   "file_extension": ".py",
   "mimetype": "text/x-python",
   "name": "python",
   "nbconvert_exporter": "python",
   "pygments_lexer": "ipython3",
   "version": "3.5.5"
  }
 },
 "nbformat": 4,
 "nbformat_minor": 2
}
