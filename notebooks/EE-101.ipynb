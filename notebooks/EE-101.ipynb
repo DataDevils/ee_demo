{
 "cells": [
  {
   "cell_type": "markdown",
   "metadata": {},
   "source": [
    "https://geoscripting-wur.github.io/Earth_Engine/"
   ]
  },
  {
   "cell_type": "markdown",
   "metadata": {},
   "source": [
    "Initialize earth engine and enable viewing images in Jupyter"
   ]
  },
  {
   "cell_type": "code",
   "execution_count": 5,
   "metadata": {},
   "outputs": [],
   "source": [
    "import ee\n",
    "ee.Initialize()\n",
    "from IPython.display import Image"
   ]
  },
  {
   "cell_type": "markdown",
   "metadata": {},
   "source": [
    "Import other packages"
   ]
  },
  {
   "cell_type": "code",
   "execution_count": 1,
   "metadata": {},
   "outputs": [],
   "source": [
    "import pandas as pd\n"
   ]
  },
  {
   "cell_type": "markdown",
   "metadata": {},
   "source": [
    "Set the date window"
   ]
  },
  {
   "cell_type": "code",
   "execution_count": 2,
   "metadata": {},
   "outputs": [],
   "source": [
    "startDate='2016-01-01'\n",
    "endDate='2017-01-01'"
   ]
  },
  {
   "cell_type": "markdown",
   "metadata": {},
   "source": [
    "Set the search coordinate and create an earth engine point object from it"
   ]
  },
  {
   "cell_type": "code",
   "execution_count": 3,
   "metadata": {},
   "outputs": [],
   "source": [
    "coords = [-83.38760375976562,41.793328494130215]"
   ]
  },
  {
   "cell_type": "code",
   "execution_count": 6,
   "metadata": {},
   "outputs": [],
   "source": [
    "point = ee.Geometry.Point(coords)"
   ]
  },
  {
   "cell_type": "markdown",
   "metadata": {},
   "source": [
    "Set the image collection, then filter it using date and location filters"
   ]
  },
  {
   "cell_type": "code",
   "execution_count": 7,
   "metadata": {},
   "outputs": [],
   "source": [
    "l8_full_collection = ee.ImageCollection('LANDSAT/LC08/C01/T1_TOA')"
   ]
  },
  {
   "cell_type": "code",
   "execution_count": 8,
   "metadata": {},
   "outputs": [],
   "source": [
    "#Spatial filter\n",
    "spatialFiltered = l8_full_collection.filterBounds(point)\n",
    "#print('spatialFiltered', spatialFiltered)"
   ]
  },
  {
   "cell_type": "code",
   "execution_count": 9,
   "metadata": {},
   "outputs": [],
   "source": [
    "#Temporal filter\n",
    "temporalFiltered = spatialFiltered.filterDate(startDate, endDate)\n",
    "#print('temporalFiltered', temporalFiltered)"
   ]
  },
  {
   "cell_type": "code",
   "execution_count": 10,
   "metadata": {},
   "outputs": [],
   "source": [
    "#The same filtering, all on one line\n",
    "l8_filtered = l8_full_collection.filterBounds(point).filterDate(startDate,endDate)"
   ]
  },
  {
   "cell_type": "markdown",
   "metadata": {},
   "source": [
    "### Show information about the [filtered] image collection\n",
    "The `getInfo()` statement returns a dictionary of information about the filtered collection.<br>\n",
    "Keys:\n",
    "* `type`: the type of item (`ImageCollection` in this case)\n",
    "* `bands`: a list of the bands in the collection\n",
    " * each item is a dictionary listing the `id` and `data_type` of the band\n",
    "* `id`: the catalog id of the item (i.e. of the `ImageCollection`)\n",
    "* `version`: the catalog version number of the item\n",
    "* `properties`: a dictionary of properties of the item [see below]\n",
    "* `features`: a list of features (i.e. images) contained in the collection\n",
    " * each feature is a dictionary of properties: [`type`, `bands`, `version`, `id`, `properties`]"
   ]
  },
  {
   "cell_type": "code",
   "execution_count": 11,
   "metadata": {},
   "outputs": [
    {
     "data": {
      "text/plain": [
       "dict_keys(['id', 'properties', 'type', 'version', 'bands', 'features'])"
      ]
     },
     "execution_count": 11,
     "metadata": {},
     "output_type": "execute_result"
    }
   ],
   "source": [
    "#Create an object containing the information dictionary and reveal its keys\n",
    "info = l8_filtered.getInfo()\n",
    "info.keys()"
   ]
  },
  {
   "cell_type": "code",
   "execution_count": 12,
   "metadata": {},
   "outputs": [
    {
     "name": "stdout",
     "output_type": "stream",
     "text": [
      "17 images returned\n"
     ]
    }
   ],
   "source": [
    "#Use the info's features item to get how many images were passed the filter\n",
    "print(\"{} images returned\".format(len(info['features'])))"
   ]
  },
  {
   "cell_type": "code",
   "execution_count": 13,
   "metadata": {},
   "outputs": [
    {
     "name": "stdout",
     "output_type": "stream",
     "text": [
      "17 images returned\n"
     ]
    }
   ],
   "source": [
    "#An alternate is to use the 'size()' function and use getInfo to convert that to a number...\n",
    "print(\"{} images returned\".format(l8_filtered.size().getInfo()))"
   ]
  },
  {
   "cell_type": "code",
   "execution_count": 14,
   "metadata": {
    "collapsed": true
   },
   "outputs": [
    {
     "data": {
      "text/markdown": [
       "<h5>description</h5> <p>Landsat 8 Collection 1 Tier 1\n",
       "  calibrated top-of-atmosphere (TOA) reflectance.\n",
       "  Calibration coefficients are extracted from the image metadata.  See\n",
       "  <a href=\"http://www.sciencedirect.com/science/article/pii/S0034425709000169\">\n",
       "  Chander et al. (2009)</a> for details on the TOA computation.</p></p>\n",
       "  <p><b>Revisit Interval</b>\n",
       "    <br>\n",
       "  16 days\n",
       "</p>\n",
       "<p><b>Bands</b>\n",
       "<table class=\"eecat\">\n",
       "  <tr>\n",
       "    <th scope=\"col\">Name</th>\n",
       "    <th scope=\"col\">Resolution</th>\n",
       "    <th scope=\"col\">Wavelength</th>\n",
       "    <th scope=\"col\">Description</th>\n",
       "  </tr>\n",
       "  <tr>\n",
       "    <td>B1</td>\n",
       "    <td>\n",
       "      30 meters\n",
       "    </td>\n",
       "    <td>0.43 - 0.45 µm</td>\n",
       "    <td><p>Coastal aerosol</p></td>\n",
       "  </tr>\n",
       "  <tr>\n",
       "    <td>B2</td>\n",
       "    <td>\n",
       "      30 meters\n",
       "    </td>\n",
       "    <td>0.45 - 0.51 µm</td>\n",
       "    <td><p>Blue</p></td>\n",
       "  </tr>\n",
       "  <tr>\n",
       "    <td>B3</td>\n",
       "    <td>\n",
       "      30 meters\n",
       "    </td>\n",
       "    <td>0.53 - 0.59 µm</td>\n",
       "    <td><p>Green</p></td>\n",
       "  </tr>\n",
       "  <tr>\n",
       "    <td>B4</td>\n",
       "    <td>\n",
       "      30 meters\n",
       "    </td>\n",
       "    <td>0.64 - 0.67 µm</td>\n",
       "    <td><p>Red</p></td>\n",
       "  </tr>\n",
       "  <tr>\n",
       "    <td>B5</td>\n",
       "    <td>\n",
       "      30 meters\n",
       "    </td>\n",
       "    <td>0.85 - 0.88 µm</td>\n",
       "    <td><p>Near infrared</p></td>\n",
       "  </tr>\n",
       "  <tr>\n",
       "    <td>B6</td>\n",
       "    <td>\n",
       "      30 meters\n",
       "    </td>\n",
       "    <td>1.57 - 1.65 µm</td>\n",
       "    <td><p>Shortwave infrared 1</p></td>\n",
       "  </tr>\n",
       "  <tr>\n",
       "    <td>B7</td>\n",
       "    <td>\n",
       "      30 meters\n",
       "    </td>\n",
       "    <td>2.11 - 2.29 µm</td>\n",
       "    <td><p>Shortwave infrared 2</p></td>\n",
       "  </tr>\n",
       "  <tr>\n",
       "    <td>B8</td>\n",
       "    <td>\n",
       "      15 meters\n",
       "    </td>\n",
       "    <td>0.52 - 0.90 µm</td>\n",
       "    <td><p>Band 8 Panchromatic</p></td>\n",
       "  </tr>\n",
       "  <tr>\n",
       "    <td>B9</td>\n",
       "    <td>\n",
       "      15 meters\n",
       "    </td>\n",
       "    <td>1.36 - 1.38 µm</td>\n",
       "    <td><p>Cirrus</p></td>\n",
       "  </tr>\n",
       "  <tr>\n",
       "    <td>B10</td>\n",
       "    <td>\n",
       "      30 meters\n",
       "    </td>\n",
       "    <td>10.60 - 11.19 µm</td>\n",
       "    <td><p>Thermal infrared 1, resampled from 100m to 30m</p></td>\n",
       "  </tr>\n",
       "  <tr>\n",
       "    <td>B11</td>\n",
       "    <td>\n",
       "      30 meters\n",
       "    </td>\n",
       "    <td>11.50 - 12.51 µm</td>\n",
       "    <td><p>Thermal infrared 2, resampled from 100m to 30m</p></td>\n",
       "  </tr>\n",
       "  <tr>\n",
       "    <td>BQA</td>\n",
       "    <td>\n",
       "    </td>\n",
       "    <td></td>\n",
       "    <td><p>Landsat Collection 1 QA Bitmask (<a href=\"https://landsat.usgs.gov/collectionqualityband\">See Landsat QA page</a>)</p></td>\n",
       "  </tr>\n",
       "  <tr>\n",
       "    <td colspan=100>\n",
       "      Bitmask for BQA\n",
       "      <ul>\n",
       "        <li>\n",
       "          Bit 0: Designated Fill\n",
       "          <ul>\n",
       "              <li>0: No</li>\n",
       "              <li>1: Yes</li>\n",
       "          </ul>\n",
       "        </li>\n",
       "        <li>\n",
       "          Bit 1: Terrain Occlusion\n",
       "          <ul>\n",
       "              <li>0: No</li>\n",
       "              <li>1: Yes</li>\n",
       "          </ul>\n",
       "        </li>\n",
       "        <li>\n",
       "          Bits 2-3: Radiometric Saturation\n",
       "          <ul>\n",
       "              <li>0: No bands contain saturation</li>\n",
       "              <li>1: 1-2 bands contain saturation</li>\n",
       "              <li>2: 3-4 bands contain saturation</li>\n",
       "              <li>3: 5 or more bands contain saturation</li>\n",
       "          </ul>\n",
       "        </li>\n",
       "        <li>\n",
       "          Bit 4: Cloud\n",
       "          <ul>\n",
       "              <li>0: No</li>\n",
       "              <li>1: Yes</li>\n",
       "          </ul>\n",
       "        </li>\n",
       "        <li>\n",
       "          Bits 5-6: Cloud Confidence\n",
       "          <ul>\n",
       "              <li>0: Not Determined / Condition does not exist.</li>\n",
       "              <li>1: Low, (0-33 percent confidence)</li>\n",
       "              <li>2: Medium, (34-66 percent confidence)</li>\n",
       "              <li>3: High, (67-100 percent confidence)</li>\n",
       "          </ul>\n",
       "        </li>\n",
       "        <li>\n",
       "          Bits 7-8: Cloud Shadow Confidence\n",
       "          <ul>\n",
       "              <li>0: Not Determined / Condition does not exist.</li>\n",
       "              <li>1: Low, (0-33 percent confidence)</li>\n",
       "              <li>2: Medium, (34-66 percent confidence)</li>\n",
       "              <li>3: High, (67-100 percent confidence)</li>\n",
       "          </ul>\n",
       "        </li>\n",
       "        <li>\n",
       "          Bits 9-10: Snow / Ice Confidence\n",
       "          <ul>\n",
       "              <li>0: Not Determined / Condition does not exist.</li>\n",
       "              <li>1: Low, (0-33 percent confidence)</li>\n",
       "              <li>2: Medium, (34-66 percent confidence)</li>\n",
       "              <li>3: High, (67-100 percent confidence)</li>\n",
       "          </ul>\n",
       "        </li>\n",
       "        <li>\n",
       "          Bits 11-12: Cirrus Confidence\n",
       "          <ul>\n",
       "              <li>0: Not Determined / Condition does not exist.</li>\n",
       "              <li>1: Low, (0-33 percent confidence)</li>\n",
       "              <li>2: Medium, (34-66 percent confidence)</li>\n",
       "              <li>3: High, (67-100 percent confidence)</li>\n",
       "          </ul>\n",
       "        </li>\n",
       "      </ul>\n",
       "    </td>\n",
       "  </tr>\n",
       "</table>\n",
       "<p><b>Image Properties</b>\n",
       "<table class=\"eecat\">\n",
       "  <tr>\n",
       "    <th scope=\"col\">Name</th>\n",
       "    <th scope=\"col\">Type</th>\n",
       "    <th scope=\"col\">Description</th>\n",
       "  </tr>\n",
       "  <tr>\n",
       "    <td>BPF_NAME_OLI</td>\n",
       "    <td>STRING</td>\n",
       "    <td><p>The file name for the Bias Parameter File (BPF) used to generate the product, if applicable. This only applies to products that contain OLI bands.</p></td>\n",
       "  </tr>\n",
       "  <tr>\n",
       "    <td>BPF_NAME_TIRS</td>\n",
       "    <td>STRING</td>\n",
       "    <td><p>The file name for the Bias Parameter File (BPF) used to generate the product, if applicable. This only applies to products that contain TIRS bands.</p></td>\n",
       "  </tr>\n",
       "  <tr>\n",
       "    <td>CLOUD_COVER</td>\n",
       "    <td>DOUBLE</td>\n",
       "    <td><p>Percentage cloud cover, -1 = not calculated.</p></td>\n",
       "  </tr>\n",
       "  <tr>\n",
       "    <td>CLOUD_COVER_LAND</td>\n",
       "    <td>DOUBLE</td>\n",
       "    <td><p>Percentage cloud cover over land, -1 = not calculated.</p></td>\n",
       "  </tr>\n",
       "  <tr>\n",
       "    <td>COLLECTION_CATEGORY</td>\n",
       "    <td>STRING</td>\n",
       "    <td><p>Tier of scene. (T1 or T2)</p></td>\n",
       "  </tr>\n",
       "  <tr>\n",
       "    <td>COLLECTION_NUMBER</td>\n",
       "    <td>DOUBLE</td>\n",
       "    <td><p>Number of collection.</p></td>\n",
       "  </tr>\n",
       "  <tr>\n",
       "    <td>CPF_NAME</td>\n",
       "    <td>STRING</td>\n",
       "    <td><p>Calibration parameter file name.</p></td>\n",
       "  </tr>\n",
       "  <tr>\n",
       "    <td>DATA_TYPE</td>\n",
       "    <td>STRING</td>\n",
       "    <td><p>Data type identifier. (L1T or L1G)</p></td>\n",
       "  </tr>\n",
       "  <tr>\n",
       "    <td>DATE_ACQUIRED</td>\n",
       "    <td>STRING</td>\n",
       "    <td><p>Image acquisition date. \"YYYY-MM-DD\"</p></td>\n",
       "  </tr>\n",
       "  <tr>\n",
       "    <td>DATUM</td>\n",
       "    <td>STRING</td>\n",
       "    <td><p>Datum used in image creation.</p></td>\n",
       "  </tr>\n",
       "  <tr>\n",
       "    <td>EARTH_SUN_DISTANCE</td>\n",
       "    <td>DOUBLE</td>\n",
       "    <td><p>Earth sun distance in astronomical units (AU).</p></td>\n",
       "  </tr>\n",
       "  <tr>\n",
       "    <td>ELEVATION_SOURCE</td>\n",
       "    <td>STRING</td>\n",
       "    <td><p>Elevation model source used for standard terrain corrected (L1T) products.</p></td>\n",
       "  </tr>\n",
       "  <tr>\n",
       "    <td>ELLIPSOID</td>\n",
       "    <td>STRING</td>\n",
       "    <td><p>Ellipsoid used in image creation.</p></td>\n",
       "  </tr>\n",
       "  <tr>\n",
       "    <td>EPHEMERIS_TYPE</td>\n",
       "    <td>STRING</td>\n",
       "    <td><p>Ephemeris data type used to perform geometric correction. (Definitive or Predictive)</p></td>\n",
       "  </tr>\n",
       "  <tr>\n",
       "    <td>FILE_DATE</td>\n",
       "    <td>DOUBLE</td>\n",
       "    <td><p>File date in milliseconds since epoch.</p></td>\n",
       "  </tr>\n",
       "  <tr>\n",
       "    <td>GEOMETRIC_RMSE_MODEL</td>\n",
       "    <td>DOUBLE</td>\n",
       "    <td><p>Combined Root Mean Square Error (RMSE) of the geometric residuals\n",
       "(metres) in both across-track and along-track directions\n",
       "measured on the GCPs used in geometric precision correction.\n",
       "Not present in L1G products.</p></td>\n",
       "  </tr>\n",
       "  <tr>\n",
       "    <td>GEOMETRIC_RMSE_MODEL_X</td>\n",
       "    <td>DOUBLE</td>\n",
       "    <td><p>RMSE of the X direction geometric residuals (in metres) measured\n",
       "on the GCPs used in geometric precision correction. Not present in\n",
       "L1G products.</p></td>\n",
       "  </tr>\n",
       "  <tr>\n",
       "    <td>GEOMETRIC_RMSE_MODEL_Y</td>\n",
       "    <td>DOUBLE</td>\n",
       "    <td><p>RMSE of the Y direction geometric residuals (in metres) measured\n",
       "on the GCPs used in geometric precision correction. Not present in\n",
       "L1G products.</p></td>\n",
       "  </tr>\n",
       "  <tr>\n",
       "    <td>GRID_CELL_SIZE_PANCHROMATIC</td>\n",
       "    <td>DOUBLE</td>\n",
       "    <td><p>Grid cell size used in creating the image for the panchromatic band.</p></td>\n",
       "  </tr>\n",
       "  <tr>\n",
       "    <td>GRID_CELL_SIZE_REFLECTIVE</td>\n",
       "    <td>DOUBLE</td>\n",
       "    <td><p>Grid cell size used in creating the image for the reflective band.</p></td>\n",
       "  </tr>\n",
       "  <tr>\n",
       "    <td>GRID_CELL_SIZE_THERMAL</td>\n",
       "    <td>DOUBLE</td>\n",
       "    <td><p>Grid cell size used in creating the image for the thermal band.</p></td>\n",
       "  </tr>\n",
       "  <tr>\n",
       "    <td>GROUND_CONTROL_POINTS_MODEL</td>\n",
       "    <td>DOUBLE</td>\n",
       "    <td><p>The number of ground control points used. Not used in L1GT products.\n",
       "Values: 0 - 999 (0 is used for L1T products that have used\n",
       "Multi-scene refinement).</p></td>\n",
       "  </tr>\n",
       "  <tr>\n",
       "    <td>GROUND_CONTROL_POINTS_VERSION</td>\n",
       "    <td>DOUBLE</td>\n",
       "    <td><p>The number of ground control points used in the verification of\n",
       "the terrain corrected product. Values: -1 to 1615 (-1 = not available)</p></td>\n",
       "  </tr>\n",
       "  <tr>\n",
       "    <td>IMAGE_QUALITY</td>\n",
       "    <td>DOUBLE</td>\n",
       "    <td><p>Image quality, 0 = worst, 9 = best, -1 = quality not calculated</p></td>\n",
       "  </tr>\n",
       "  <tr>\n",
       "    <td>IMAGE_QUALITY_OLCI</td>\n",
       "    <td>DOUBLE</td>\n",
       "    <td><p>The composite image quality for the OLI bands. Values: 9 = Best. 1 = Worst. 0 = Image quality not calculated. This parameter is only present if OLI bands are present in the product.</p></td>\n",
       "  </tr>\n",
       "  <tr>\n",
       "    <td>IMAGE_QUALITY_TIRS</td>\n",
       "    <td>DOUBLE</td>\n",
       "    <td><p>The composite image quality for the TIRS bands. Values: 9 = Best. 1 = Worst. 0 = Image quality not calculated. This parameter is only present if OLI bands are present in the product.</p></td>\n",
       "  </tr>\n",
       "  <tr>\n",
       "    <td>K1_CONSTANT_BAND_10</td>\n",
       "    <td>DOUBLE</td>\n",
       "    <td><p>Calibration K1 constant for Band 10 radiance to temperature conversion.</p></td>\n",
       "  </tr>\n",
       "  <tr>\n",
       "    <td>K1_CONSTANT_BAND_11</td>\n",
       "    <td>DOUBLE</td>\n",
       "    <td><p>Calibration K1 constant for Band 11 radiance to temperature conversion.</p></td>\n",
       "  </tr>\n",
       "  <tr>\n",
       "    <td>K2_CONSTANT_BAND_10</td>\n",
       "    <td>DOUBLE</td>\n",
       "    <td><p>Calibration K2 constant for Band 10 radiance to temperature conversion.</p></td>\n",
       "  </tr>\n",
       "  <tr>\n",
       "    <td>K2_CONSTANT_BAND_11</td>\n",
       "    <td>DOUBLE</td>\n",
       "    <td><p>Calibration K2 constant for Band 11 radiance to temperature conversion.</p></td>\n",
       "  </tr>\n",
       "  <tr>\n",
       "    <td>LANDSAT_PRODUCT_ID</td>\n",
       "    <td>STRING</td>\n",
       "    <td><p>The naming convention of each Landsat Collection 1 Level-1 image based\n",
       "on acquisition parameters and processing paramaters.</p>\n",
       "<p>Format: LXSS_LLLL_PPPRRR_YYYYMMDD_yyyymmdd_CC_TX</p>\n",
       "<ul>\n",
       "<li>L = Landsat</li>\n",
       "<li>X = Sensor (O = Operational Land Imager,\n",
       "T = Thermal Infrared Sensor, C = Combined OLI/TIRS)</li>\n",
       "<li>SS = Satellite (08 = Landsat 8)</li>\n",
       "<li>LLLL = Processing Correction Level (L1TP = precision and terrain,\n",
       "L1GT = systematic terrain, L1GS = systematic)</li>\n",
       "<li>PPP = WRS Path</li>\n",
       "<li>RRR = WRS Row</li>\n",
       "<li>YYYYMMDD = Acquisition Date expressed in Year, Month, Day</li>\n",
       "<li>yyyymmdd = Processing Date expressed in Year, Month, Day</li>\n",
       "<li>CC = Collection Number (01)</li>\n",
       "<li>TX = Collection Category (RT = Real Time, T1 = Tier 1, T2 = Tier 2)</li>\n",
       "</ul></td>\n",
       "  </tr>\n",
       "  <tr>\n",
       "    <td>LANDSAT_SCENE_ID</td>\n",
       "    <td>STRING</td>\n",
       "    <td><p>The Pre-Collection naming convention of each image is based on acquisition\n",
       "parameters. This was the naming convention used prior to Collection 1.</p>\n",
       "<p>Format: LXSPPPRRRYYYYDDDGSIVV</p>\n",
       "<ul>\n",
       "<li>L = Landsat</li>\n",
       "<li>X = Sensor (O = Operational Land Imager, T = Thermal Infrared Sensor, C = Combined OLI/TIRS)</li>\n",
       "<li>S = Satellite (08 = Landsat 8)</li>\n",
       "<li>PPP = WRS Path</li>\n",
       "<li>RRR = WRS Row</li>\n",
       "<li>YYYY = Year of Acquisition</li>\n",
       "<li>DDD = Julian Day of Acquisition</li>\n",
       "<li>GSI = Ground Station Identifier</li>\n",
       "<li>VV = Version</li>\n",
       "</ul></td>\n",
       "  </tr>\n",
       "  <tr>\n",
       "    <td>MAP_PROJECTION</td>\n",
       "    <td>STRING</td>\n",
       "    <td><p>Projection used to represent the 3-dimensional surface of the earth for the Level-1 product.</p></td>\n",
       "  </tr>\n",
       "  <tr>\n",
       "    <td>NADIR_OFFNADIR</td>\n",
       "    <td>STRING</td>\n",
       "    <td><p>Nadir or Off-Nadir condition of the scene.</p></td>\n",
       "  </tr>\n",
       "  <tr>\n",
       "    <td>ORIENTATION</td>\n",
       "    <td>STRING</td>\n",
       "    <td><p>Orientation used in creating the image. Values: NOMINAL = Nominal Path, NORTH_UP = North Up, TRUE_NORTH = True North, USER = User</p></td>\n",
       "  </tr>\n",
       "  <tr>\n",
       "    <td>PANCHROMATIC_LINES</td>\n",
       "    <td>DOUBLE</td>\n",
       "    <td><p>Number of product lines for the panchromatic band.</p></td>\n",
       "  </tr>\n",
       "  <tr>\n",
       "    <td>PANCHROMATIC_SAMPLES</td>\n",
       "    <td>DOUBLE</td>\n",
       "    <td><p>Number of product samples for the panchromatic bands.</p></td>\n",
       "  </tr>\n",
       "  <tr>\n",
       "    <td>PROCESSING_SOFTWARE_VERSION</td>\n",
       "    <td>STRING</td>\n",
       "    <td><p>Name and version of the processing software used to generate the L1 product.</p></td>\n",
       "  </tr>\n",
       "  <tr>\n",
       "    <td>RADIANCE_ADD_BAND_1</td>\n",
       "    <td>DOUBLE</td>\n",
       "    <td><p>Additive rescaling factor used to convert calibrated DN to radiance for Band 1.</p></td>\n",
       "  </tr>\n",
       "  <tr>\n",
       "    <td>RADIANCE_ADD_BAND_10</td>\n",
       "    <td>DOUBLE</td>\n",
       "    <td><p>Additive rescaling factor used to convert calibrated DN to radiance for Band 10.</p></td>\n",
       "  </tr>\n",
       "  <tr>\n",
       "    <td>RADIANCE_ADD_BAND_11</td>\n",
       "    <td>DOUBLE</td>\n",
       "    <td><p>Additive rescaling factor used to convert calibrated DN to radiance for Band 11.</p></td>\n",
       "  </tr>\n",
       "  <tr>\n",
       "    <td>RADIANCE_ADD_BAND_2</td>\n",
       "    <td>DOUBLE</td>\n",
       "    <td><p>Additive rescaling factor used to convert calibrated DN to radiance for Band 2.</p></td>\n",
       "  </tr>\n",
       "  <tr>\n",
       "    <td>RADIANCE_ADD_BAND_3</td>\n",
       "    <td>DOUBLE</td>\n",
       "    <td><p>Additive rescaling factor used to convert calibrated DN to radiance for Band 3.</p></td>\n",
       "  </tr>\n",
       "  <tr>\n",
       "    <td>RADIANCE_ADD_BAND_4</td>\n",
       "    <td>DOUBLE</td>\n",
       "    <td><p>Additive rescaling factor used to convert calibrated DN to radiance for Band 4.</p></td>\n",
       "  </tr>\n",
       "  <tr>\n",
       "    <td>RADIANCE_ADD_BAND_5</td>\n",
       "    <td>DOUBLE</td>\n",
       "    <td><p>Additive rescaling factor used to convert calibrated DN to radiance for Band 5.</p></td>\n",
       "  </tr>\n",
       "  <tr>\n",
       "    <td>RADIANCE_ADD_BAND_6</td>\n",
       "    <td>DOUBLE</td>\n",
       "    <td><p>Additive rescaling factor used to convert calibrated DN to radiance for Band 6.</p></td>\n",
       "  </tr>\n",
       "  <tr>\n",
       "    <td>RADIANCE_ADD_BAND_7</td>\n",
       "    <td>DOUBLE</td>\n",
       "    <td><p>Additive rescaling factor used to convert calibrated DN to radiance for Band 7.</p></td>\n",
       "  </tr>\n",
       "  <tr>\n",
       "    <td>RADIANCE_ADD_BAND_8</td>\n",
       "    <td>DOUBLE</td>\n",
       "    <td><p>Additive rescaling factor used to convert calibrated DN to radiance for Band 8.</p></td>\n",
       "  </tr>\n",
       "  <tr>\n",
       "    <td>RADIANCE_ADD_BAND_9</td>\n",
       "    <td>DOUBLE</td>\n",
       "    <td><p>Additive rescaling factor used to convert calibrated DN to radiance for Band 9.</p></td>\n",
       "  </tr>\n",
       "  <tr>\n",
       "    <td>RADIANCE_MULT_BAND_1</td>\n",
       "    <td>DOUBLE</td>\n",
       "    <td><p>Multiplicative rescaling factor used to convert calibrated Band 1 DN to radiance.</p></td>\n",
       "  </tr>\n",
       "  <tr>\n",
       "    <td>RADIANCE_MULT_BAND_10</td>\n",
       "    <td>DOUBLE</td>\n",
       "    <td><p>Multiplicative rescaling factor used to convert calibrated Band 10 DN to radiance.</p></td>\n",
       "  </tr>\n",
       "  <tr>\n",
       "    <td>RADIANCE_MULT_BAND_11</td>\n",
       "    <td>DOUBLE</td>\n",
       "    <td><p>Multiplicative rescaling factor used to convert calibrated Band 11 DN to radiance.</p></td>\n",
       "  </tr>\n",
       "  <tr>\n",
       "    <td>RADIANCE_MULT_BAND_2</td>\n",
       "    <td>DOUBLE</td>\n",
       "    <td><p>Multiplicative rescaling factor used to convert calibrated Band 2 DN to radiance.</p></td>\n",
       "  </tr>\n",
       "  <tr>\n",
       "    <td>RADIANCE_MULT_BAND_3</td>\n",
       "    <td>DOUBLE</td>\n",
       "    <td><p>Multiplicative rescaling factor used to convert calibrated Band 3 DN to radiance.</p></td>\n",
       "  </tr>\n",
       "  <tr>\n",
       "    <td>RADIANCE_MULT_BAND_4</td>\n",
       "    <td>DOUBLE</td>\n",
       "    <td><p>Multiplicative rescaling factor used to convert calibrated Band 4 DN to radiance.</p></td>\n",
       "  </tr>\n",
       "  <tr>\n",
       "    <td>RADIANCE_MULT_BAND_5</td>\n",
       "    <td>DOUBLE</td>\n",
       "    <td><p>Multiplicative rescaling factor used to convert calibrated Band 5 DN to radiance.</p></td>\n",
       "  </tr>\n",
       "  <tr>\n",
       "    <td>RADIANCE_MULT_BAND_6</td>\n",
       "    <td>DOUBLE</td>\n",
       "    <td><p>Multiplicative rescaling factor used to convert calibrated Band 6 DN to radiance.</p></td>\n",
       "  </tr>\n",
       "  <tr>\n",
       "    <td>RADIANCE_MULT_BAND_7</td>\n",
       "    <td>DOUBLE</td>\n",
       "    <td><p>Multiplicative rescaling factor used to convert calibrated Band 7 DN to radiance.</p></td>\n",
       "  </tr>\n",
       "  <tr>\n",
       "    <td>RADIANCE_MULT_BAND_8</td>\n",
       "    <td>DOUBLE</td>\n",
       "    <td><p>Multiplicative rescaling factor used to convert calibrated Band 8 DN to radiance.</p></td>\n",
       "  </tr>\n",
       "  <tr>\n",
       "    <td>RADIANCE_MULT_BAND_9</td>\n",
       "    <td>DOUBLE</td>\n",
       "    <td><p>Multiplicative rescaling factor used to convert calibrated Band 9 DN to radiance.</p></td>\n",
       "  </tr>\n",
       "  <tr>\n",
       "    <td>REFLECTANCE_ADD_BAND_1</td>\n",
       "    <td>DOUBLE</td>\n",
       "    <td><p>Additive rescaling factor used to convert calibrated Band 1 DN to reflectance.</p></td>\n",
       "  </tr>\n",
       "  <tr>\n",
       "    <td>REFLECTANCE_ADD_BAND_2</td>\n",
       "    <td>DOUBLE</td>\n",
       "    <td><p>Additive rescaling factor used to convert calibrated Band 2 DN to reflectance.</p></td>\n",
       "  </tr>\n",
       "  <tr>\n",
       "    <td>REFLECTANCE_ADD_BAND_3</td>\n",
       "    <td>DOUBLE</td>\n",
       "    <td><p>Additive rescaling factor used to convert calibrated Band 3 DN to reflectance.</p></td>\n",
       "  </tr>\n",
       "  <tr>\n",
       "    <td>REFLECTANCE_ADD_BAND_4</td>\n",
       "    <td>DOUBLE</td>\n",
       "    <td><p>Additive rescaling factor used to convert calibrated Band 4 DN to reflectance.</p></td>\n",
       "  </tr>\n",
       "  <tr>\n",
       "    <td>REFLECTANCE_ADD_BAND_5</td>\n",
       "    <td>DOUBLE</td>\n",
       "    <td><p>Additive rescaling factor used to convert calibrated Band 5 DN to reflectance.</p></td>\n",
       "  </tr>\n",
       "  <tr>\n",
       "    <td>REFLECTANCE_ADD_BAND_7</td>\n",
       "    <td>DOUBLE</td>\n",
       "    <td><p>Multiplicative factor used to convert calibrated Band 7 DN to reflectance.</p></td>\n",
       "  </tr>\n",
       "  <tr>\n",
       "    <td>REFLECTANCE_ADD_BAND_8</td>\n",
       "    <td>DOUBLE</td>\n",
       "    <td><p>Multiplicative factor used to convert calibrated Band 8 DN to reflectance.</p></td>\n",
       "  </tr>\n",
       "  <tr>\n",
       "    <td>REFLECTANCE_ADD_BAND_9</td>\n",
       "    <td>DOUBLE</td>\n",
       "    <td><p>Minimum achievable spectral reflectance value for Band 8.</p></td>\n",
       "  </tr>\n",
       "  <tr>\n",
       "    <td>REFLECTANCE_MULT_BAND_1</td>\n",
       "    <td>DOUBLE</td>\n",
       "    <td><p>Multiplicative factor used to convert calibrated Band 1 DN to reflectance.</p></td>\n",
       "  </tr>\n",
       "  <tr>\n",
       "    <td>REFLECTANCE_MULT_BAND_2</td>\n",
       "    <td>DOUBLE</td>\n",
       "    <td><p>Multiplicative factor used to convert calibrated Band 2 DN to reflectance.</p></td>\n",
       "  </tr>\n",
       "  <tr>\n",
       "    <td>REFLECTANCE_MULT_BAND_3</td>\n",
       "    <td>DOUBLE</td>\n",
       "    <td><p>Multiplicative factor used to convert calibrated Band 3 DN to reflectance.</p></td>\n",
       "  </tr>\n",
       "  <tr>\n",
       "    <td>REFLECTANCE_MULT_BAND_4</td>\n",
       "    <td>DOUBLE</td>\n",
       "    <td><p>Multiplicative factor used to convert calibrated Band 4 DN to reflectance.</p></td>\n",
       "  </tr>\n",
       "  <tr>\n",
       "    <td>REFLECTANCE_MULT_BAND_5</td>\n",
       "    <td>DOUBLE</td>\n",
       "    <td><p>Multiplicative factor used to convert calibrated Band 5 DN to reflectance.</p></td>\n",
       "  </tr>\n",
       "  <tr>\n",
       "    <td>REFLECTANCE_MULT_BAND_6</td>\n",
       "    <td>DOUBLE</td>\n",
       "    <td><p>Multiplicative factor used to convert calibrated Band 6 DN to reflectance.</p></td>\n",
       "  </tr>\n",
       "  <tr>\n",
       "    <td>REFLECTANCE_MULT_BAND_7</td>\n",
       "    <td>DOUBLE</td>\n",
       "    <td><p>Multiplicative factor used to convert calibrated Band 7 DN to reflectance.</p></td>\n",
       "  </tr>\n",
       "  <tr>\n",
       "    <td>REFLECTANCE_MULT_BAND_8</td>\n",
       "    <td>DOUBLE</td>\n",
       "    <td><p>Multiplicative factor used to convert calibrated Band 8 DN to reflectance.</p></td>\n",
       "  </tr>\n",
       "  <tr>\n",
       "    <td>REFLECTANCE_MULT_BAND_9</td>\n",
       "    <td>DOUBLE</td>\n",
       "    <td><p>Multiplicative factor used to convert calibrated Band 9 DN to reflectance.</p></td>\n",
       "  </tr>\n",
       "  <tr>\n",
       "    <td>REFLECTIVE_LINES</td>\n",
       "    <td>DOUBLE</td>\n",
       "    <td><p>Number of product lines for the reflective bands.</p></td>\n",
       "  </tr>\n",
       "  <tr>\n",
       "    <td>REFLECTIVE_SAMPLES</td>\n",
       "    <td>DOUBLE</td>\n",
       "    <td><p>Number of product samples for the reflective bands.</p></td>\n",
       "  </tr>\n",
       "  <tr>\n",
       "    <td>REQUEST_ID</td>\n",
       "    <td>STRING</td>\n",
       "    <td><p>Request id, nnnyymmdd0000_0000</p>\n",
       "<ul>\n",
       "<li>nnn = node number</li>\n",
       "<li>yy = year</li>\n",
       "<li>mm = month</li>\n",
       "<li>dd = day</li>\n",
       "</ul></td>\n",
       "  </tr>\n",
       "  <tr>\n",
       "    <td>RESAMPLING_OPTION</td>\n",
       "    <td>STRING</td>\n",
       "    <td><p>Resampling option used in creating the image.</p></td>\n",
       "  </tr>\n",
       "  <tr>\n",
       "    <td>RLUT_FILE_NAME</td>\n",
       "    <td>STRING</td>\n",
       "    <td><p>The file name for the Response Linearization Lookup Table (RLUT) used to generate the product, if applicable.</p></td>\n",
       "  </tr>\n",
       "  <tr>\n",
       "    <td>ROLL_ANGLE</td>\n",
       "    <td>DOUBLE</td>\n",
       "    <td><p>The amount of spacecraft roll angle at the scene center.</p></td>\n",
       "  </tr>\n",
       "  <tr>\n",
       "    <td>SATURATION_BAND_1</td>\n",
       "    <td>STRING</td>\n",
       "    <td><p>Flag indicating saturated pixels for band 1 ('Y'/'N')</p></td>\n",
       "  </tr>\n",
       "  <tr>\n",
       "    <td>SATURATION_BAND_10</td>\n",
       "    <td>STRING</td>\n",
       "    <td><p>Flag indicating saturated pixels for band 10 ('Y'/'N')</p></td>\n",
       "  </tr>\n",
       "  <tr>\n",
       "    <td>SATURATION_BAND_11</td>\n",
       "    <td>STRING</td>\n",
       "    <td><p>Flag indicating saturated pixels for band 11 ('Y'/'N')</p></td>\n",
       "  </tr>\n",
       "  <tr>\n",
       "    <td>SATURATION_BAND_2</td>\n",
       "    <td>STRING</td>\n",
       "    <td><p>Flag indicating saturated pixels for band 2 ('Y'/'N')</p></td>\n",
       "  </tr>\n",
       "  <tr>\n",
       "    <td>SATURATION_BAND_3</td>\n",
       "    <td>STRING</td>\n",
       "    <td><p>Flag indicating saturated pixels for band 3 ('Y'/'N')</p></td>\n",
       "  </tr>\n",
       "  <tr>\n",
       "    <td>SATURATION_BAND_4</td>\n",
       "    <td>STRING</td>\n",
       "    <td><p>Flag indicating saturated pixels for band 4 ('Y'/'N')</p></td>\n",
       "  </tr>\n",
       "  <tr>\n",
       "    <td>SATURATION_BAND_5</td>\n",
       "    <td>STRING</td>\n",
       "    <td><p>Flag indicating saturated pixels for band 5 ('Y'/'N')</p></td>\n",
       "  </tr>\n",
       "  <tr>\n",
       "    <td>SATURATION_BAND_6</td>\n",
       "    <td>STRING</td>\n",
       "    <td><p>Flag indicating saturated pixels for band 6 ('Y'/'N')</p></td>\n",
       "  </tr>\n",
       "  <tr>\n",
       "    <td>SATURATION_BAND_7</td>\n",
       "    <td>STRING</td>\n",
       "    <td><p>Flag indicating saturated pixels for band 7 ('Y'/'N')</p></td>\n",
       "  </tr>\n",
       "  <tr>\n",
       "    <td>SATURATION_BAND_8</td>\n",
       "    <td>STRING</td>\n",
       "    <td><p>Flag indicating saturated pixels for band 8 ('Y'/'N')</p></td>\n",
       "  </tr>\n",
       "  <tr>\n",
       "    <td>SATURATION_BAND_9</td>\n",
       "    <td>STRING</td>\n",
       "    <td><p>Flag indicating saturated pixels for band 9 ('Y'/'N')</p></td>\n",
       "  </tr>\n",
       "  <tr>\n",
       "    <td>SCENE_CENTER_TIME</td>\n",
       "    <td>STRING</td>\n",
       "    <td><p>Scene center time of acquired image. HH:MM:SS.SSSSSSSZ</p>\n",
       "<ul>\n",
       "<li>HH = Hour (00-23)</li>\n",
       "<li>MM = Minutes</li>\n",
       "<li>SS.SSSSSSS = Fractional seconds</li>\n",
       "<li>Z = \"Zulu\" time (same as GMT)</li>\n",
       "</ul></td>\n",
       "  </tr>\n",
       "  <tr>\n",
       "    <td>SENSOR_ID</td>\n",
       "    <td>STRING</td>\n",
       "    <td><p>Sensor used to capture data.</p></td>\n",
       "  </tr>\n",
       "  <tr>\n",
       "    <td>SPACECRAFT_ID</td>\n",
       "    <td>STRING</td>\n",
       "    <td><p>Spacecraft identification.</p></td>\n",
       "  </tr>\n",
       "  <tr>\n",
       "    <td>STATION_ID</td>\n",
       "    <td>STRING</td>\n",
       "    <td><p>Ground Station/Organisation that received the data.</p></td>\n",
       "  </tr>\n",
       "  <tr>\n",
       "    <td>SUN_AZIMUTH</td>\n",
       "    <td>DOUBLE</td>\n",
       "    <td><p>Sun azimuth angle in degrees for the image center location at the image centre acquisition time.</p></td>\n",
       "  </tr>\n",
       "  <tr>\n",
       "    <td>SUN_ELEVATION</td>\n",
       "    <td>DOUBLE</td>\n",
       "    <td><p>Sun elevation angle in degrees for the image center location at the image centre acquisition time.</p></td>\n",
       "  </tr>\n",
       "  <tr>\n",
       "    <td>TARGET_WRS_PATH</td>\n",
       "    <td>DOUBLE</td>\n",
       "    <td><p>Nearest WRS-2 path to the line-of-sight scene center of the image.</p></td>\n",
       "  </tr>\n",
       "  <tr>\n",
       "    <td>TARGET_WRS_ROW</td>\n",
       "    <td>DOUBLE</td>\n",
       "    <td><p>Nearest WRS-2 row to the line-of-sight scene center of the image. Rows 880-889 and 990-999 are reserved for the polar regions where it is undefined in the WRS-2.</p></td>\n",
       "  </tr>\n",
       "  <tr>\n",
       "    <td>THERMAL_LINES</td>\n",
       "    <td>DOUBLE</td>\n",
       "    <td><p>Number of product lines for the thermal band.</p></td>\n",
       "  </tr>\n",
       "  <tr>\n",
       "    <td>THERMAL_SAMPLES</td>\n",
       "    <td>DOUBLE</td>\n",
       "    <td><p>Number of product samples for the thermal band.</p></td>\n",
       "  </tr>\n",
       "  <tr>\n",
       "    <td>TIRS_SSM_MODEL</td>\n",
       "    <td>STRING</td>\n",
       "    <td><p>Due to an anomalous condition on the Thermal Infrared\n",
       "Sensor (TIRS) Scene Select Mirror (SSM) encoder electronics,\n",
       "this field has been added to indicate which model was used to process the data.\n",
       "(Actual, Preliminary, Final)</p></td>\n",
       "  </tr>\n",
       "  <tr>\n",
       "    <td>TIRS_SSM_POSITION_STATUS</td>\n",
       "    <td>STRING</td>\n",
       "    <td><p>TIRS SSM position status.</p></td>\n",
       "  </tr>\n",
       "  <tr>\n",
       "    <td>TIRS_STRAY_LIGHT_CORRECTION_SOURCE</td>\n",
       "    <td>STRING</td>\n",
       "    <td><p>TIRS stray light correction source.</p></td>\n",
       "  </tr>\n",
       "  <tr>\n",
       "    <td>TRUNCATION_OLI</td>\n",
       "    <td>STRING</td>\n",
       "    <td><p>Region of OLCI truncated.</p></td>\n",
       "  </tr>\n",
       "  <tr>\n",
       "    <td>UTM_ZONE</td>\n",
       "    <td>DOUBLE</td>\n",
       "    <td><p>UTM zone number used in product map projection.</p></td>\n",
       "  </tr>\n",
       "  <tr>\n",
       "    <td>WRS_PATH</td>\n",
       "    <td>DOUBLE</td>\n",
       "    <td><p>The WRS orbital path number (001 - 251).</p></td>\n",
       "  </tr>\n",
       "  <tr>\n",
       "    <td>WRS_ROW</td>\n",
       "    <td>DOUBLE</td>\n",
       "    <td><p>Landsat satellite WRS row (001-248).</p></td>\n",
       "  </tr>\n",
       "</table>\n",
       "<style>\n",
       "  table.eecat {\n",
       "  border: 1px solid black;\n",
       "  border-collapse: collapse;\n",
       "  font-size: 13px;\n",
       "  }\n",
       "  table.eecat td, tr, th {\n",
       "  text-align: left; vertical-align: top;\n",
       "  border: 1px solid gray; padding: 3px;\n",
       "  }\n",
       "  td.nobreak { white-space: nowrap; }\n",
       "</style>"
      ],
      "text/plain": [
       "<IPython.core.display.Markdown object>"
      ]
     },
     "metadata": {},
     "output_type": "display_data"
    },
    {
     "data": {
      "text/markdown": [
       "<h5>date_range</h5> [1365638400000.0, 1531526400000.0]"
      ],
      "text/plain": [
       "<IPython.core.display.Markdown object>"
      ]
     },
     "metadata": {},
     "output_type": "display_data"
    },
    {
     "data": {
      "text/markdown": [
       "<h5>system:visualization_0_max</h5> 30000.0"
      ],
      "text/plain": [
       "<IPython.core.display.Markdown object>"
      ]
     },
     "metadata": {},
     "output_type": "display_data"
    },
    {
     "data": {
      "text/markdown": [
       "<h5>tags</h5> ['landsat', 'usgs', 'global', 'toa', 't1', 'l8', 'c1', 'oli_tirs', 'lc8', 'radiance', 'tier1']"
      ],
      "text/plain": [
       "<IPython.core.display.Markdown object>"
      ]
     },
     "metadata": {},
     "output_type": "display_data"
    },
    {
     "data": {
      "text/markdown": [
       "<h5>system:visualization_2_gain</h5> 500.0"
      ],
      "text/plain": [
       "<IPython.core.display.Markdown object>"
      ]
     },
     "metadata": {},
     "output_type": "display_data"
    },
    {
     "data": {
      "text/markdown": [
       "<h5>system:visualization_2_bands</h5> B7,B5,B3"
      ],
      "text/plain": [
       "<IPython.core.display.Markdown object>"
      ]
     },
     "metadata": {},
     "output_type": "display_data"
    },
    {
     "data": {
      "text/markdown": [
       "<h5>system:visualization_0_bands</h5> B4,B3,B2"
      ],
      "text/plain": [
       "<IPython.core.display.Markdown object>"
      ]
     },
     "metadata": {},
     "output_type": "display_data"
    },
    {
     "data": {
      "text/markdown": [
       "<h5>source_tags</h5> ['landsat', 'usgs']"
      ],
      "text/plain": [
       "<IPython.core.display.Markdown object>"
      ]
     },
     "metadata": {},
     "output_type": "display_data"
    },
    {
     "data": {
      "text/markdown": [
       "<h5>system:visualization_0_name</h5> True Color (432)"
      ],
      "text/plain": [
       "<IPython.core.display.Markdown object>"
      ]
     },
     "metadata": {},
     "output_type": "display_data"
    },
    {
     "data": {
      "text/markdown": [
       "<h5>system:visualization_1_min</h5> 0.0"
      ],
      "text/plain": [
       "<IPython.core.display.Markdown object>"
      ]
     },
     "metadata": {},
     "output_type": "display_data"
    },
    {
     "data": {
      "text/markdown": [
       "<h5>system:visualization_2_name</h5> Shortwave Infrared (753)"
      ],
      "text/plain": [
       "<IPython.core.display.Markdown object>"
      ]
     },
     "metadata": {},
     "output_type": "display_data"
    },
    {
     "data": {
      "text/markdown": [
       "<h5>system:visualization_2_max</h5> 30000.0"
      ],
      "text/plain": [
       "<IPython.core.display.Markdown object>"
      ]
     },
     "metadata": {},
     "output_type": "display_data"
    },
    {
     "data": {
      "text/markdown": [
       "<h5>thumb</h5> https://mw1.google.com/ges/dd/images/LANDSAT_TOA_thumb.png"
      ],
      "text/plain": [
       "<IPython.core.display.Markdown object>"
      ]
     },
     "metadata": {},
     "output_type": "display_data"
    },
    {
     "data": {
      "text/markdown": [
       "<h5>period</h5> 0.0"
      ],
      "text/plain": [
       "<IPython.core.display.Markdown object>"
      ]
     },
     "metadata": {},
     "output_type": "display_data"
    },
    {
     "data": {
      "text/markdown": [
       "<h5>system:visualization_2_min</h5> 0.0"
      ],
      "text/plain": [
       "<IPython.core.display.Markdown object>"
      ]
     },
     "metadata": {},
     "output_type": "display_data"
    },
    {
     "data": {
      "text/markdown": [
       "<h5>system:visualization_1_bands</h5> B5,B4,B3"
      ],
      "text/plain": [
       "<IPython.core.display.Markdown object>"
      ]
     },
     "metadata": {},
     "output_type": "display_data"
    },
    {
     "data": {
      "text/markdown": [
       "<h5>system:visualization_1_gain</h5> 500.0"
      ],
      "text/plain": [
       "<IPython.core.display.Markdown object>"
      ]
     },
     "metadata": {},
     "output_type": "display_data"
    },
    {
     "data": {
      "text/markdown": [
       "<h5>system:visualization_0_min</h5> 0.0"
      ],
      "text/plain": [
       "<IPython.core.display.Markdown object>"
      ]
     },
     "metadata": {},
     "output_type": "display_data"
    },
    {
     "data": {
      "text/markdown": [
       "<h5>system:visualization_1_max</h5> 30000.0"
      ],
      "text/plain": [
       "<IPython.core.display.Markdown object>"
      ]
     },
     "metadata": {},
     "output_type": "display_data"
    },
    {
     "data": {
      "text/markdown": [
       "<h5>sample</h5> https://mw1.google.com/ges/dd/images/LANDSAT_TOA_sample.png"
      ],
      "text/plain": [
       "<IPython.core.display.Markdown object>"
      ]
     },
     "metadata": {},
     "output_type": "display_data"
    },
    {
     "data": {
      "text/markdown": [
       "<h5>system:visualization_1_name</h5> Near Infrared (543)"
      ],
      "text/plain": [
       "<IPython.core.display.Markdown object>"
      ]
     },
     "metadata": {},
     "output_type": "display_data"
    },
    {
     "data": {
      "text/markdown": [
       "<h5>title</h5> USGS Landsat 8 Collection 1 Tier 1 TOA Reflectance"
      ],
      "text/plain": [
       "<IPython.core.display.Markdown object>"
      ]
     },
     "metadata": {},
     "output_type": "display_data"
    },
    {
     "data": {
      "text/markdown": [
       "<h5>provider_url</h5> http://landsat.usgs.gov/"
      ],
      "text/plain": [
       "<IPython.core.display.Markdown object>"
      ]
     },
     "metadata": {},
     "output_type": "display_data"
    },
    {
     "data": {
      "text/markdown": [
       "<h5>product_tags</h5> ['global', 'toa', 't1', 'l8', 'c1', 'oli_tirs', 'lc8', 'radiance', 'tier1']"
      ],
      "text/plain": [
       "<IPython.core.display.Markdown object>"
      ]
     },
     "metadata": {},
     "output_type": "display_data"
    },
    {
     "data": {
      "text/markdown": [
       "<h5>provider</h5> Google"
      ],
      "text/plain": [
       "<IPython.core.display.Markdown object>"
      ]
     },
     "metadata": {},
     "output_type": "display_data"
    },
    {
     "data": {
      "text/markdown": [
       "<h5>system:visualization_0_gain</h5> 500.0"
      ],
      "text/plain": [
       "<IPython.core.display.Markdown object>"
      ]
     },
     "metadata": {},
     "output_type": "display_data"
    }
   ],
   "source": [
    "#Print ()nicely) the properties of the image collection\n",
    "from IPython.display import Markdown, display\n",
    "x = l8_filtered.getInfo()['properties']\n",
    "for k,v in x.items():\n",
    "    string = \"<h5>{}</h5> {}\".format(k,v)\n",
    "    display(Markdown(string))\n"
   ]
  },
  {
   "cell_type": "code",
   "execution_count": 15,
   "metadata": {},
   "outputs": [
    {
     "data": {
      "text/plain": [
       "dict_keys(['id', 'bands', 'properties', 'type', 'version'])"
      ]
     },
     "execution_count": 15,
     "metadata": {},
     "output_type": "execute_result"
    }
   ],
   "source": [
    "#Get the info for the first feature (i.e. image) in the collection and display info of it\n",
    "imageInfo = info['features'][0]\n",
    "imageInfo.keys()"
   ]
  },
  {
   "cell_type": "code",
   "execution_count": null,
   "metadata": {},
   "outputs": [],
   "source": [
    "imageInfo['id']"
   ]
  },
  {
   "cell_type": "code",
   "execution_count": null,
   "metadata": {},
   "outputs": [],
   "source": [
    "imageInfo['properties']"
   ]
  },
  {
   "cell_type": "code",
   "execution_count": null,
   "metadata": {},
   "outputs": [],
   "source": [
    "#Use pandas to show feature bands as a dataframe\n",
    "import pandas as pd\n",
    "dfFeatures = pd.DataFrame.from_dict(imageInfo['bands'])\n",
    "dfFeatures"
   ]
  },
  {
   "cell_type": "markdown",
   "metadata": {},
   "source": [
    "## Get info at a specific point from the filtered image collection"
   ]
  },
  {
   "cell_type": "code",
   "execution_count": 16,
   "metadata": {},
   "outputs": [
    {
     "name": "stdout",
     "output_type": "stream",
     "text": [
      "17 records returned\n"
     ]
    }
   ],
   "source": [
    "ptInfo = l8_filtered.getRegion(point,30).getInfo()\n",
    "print(\"{} records returned\".format(len(ptInfo)-1))"
   ]
  },
  {
   "cell_type": "markdown",
   "metadata": {},
   "source": [
    "### Convert the result to a dataframe\n",
    "The first record is the column names; the remaining are the records for each image in the collection"
   ]
  },
  {
   "cell_type": "code",
   "execution_count": 17,
   "metadata": {},
   "outputs": [
    {
     "data": {
      "text/plain": [
       "(17, 16)"
      ]
     },
     "execution_count": 17,
     "metadata": {},
     "output_type": "execute_result"
    }
   ],
   "source": [
    "#Convert all but the first record to a dataframe \n",
    "dfPoint = pd.DataFrame(ptInfo[1:])\n",
    "#Use the first record to assigne column names\n",
    "dfPoint.columns = ptInfo[0]\n",
    "#Convert the time stamp to a redable time\n",
    "dfPoint['time'] = pd.to_datetime(dfPoint['time']/1000,unit='s')\n",
    "#Should be a row for each image, and column for each attribute\n",
    "dfPoint.shape"
   ]
  },
  {
   "cell_type": "code",
   "execution_count": 18,
   "metadata": {},
   "outputs": [
    {
     "data": {
      "text/html": [
       "<div>\n",
       "<style scoped>\n",
       "    .dataframe tbody tr th:only-of-type {\n",
       "        vertical-align: middle;\n",
       "    }\n",
       "\n",
       "    .dataframe tbody tr th {\n",
       "        vertical-align: top;\n",
       "    }\n",
       "\n",
       "    .dataframe thead th {\n",
       "        text-align: right;\n",
       "    }\n",
       "</style>\n",
       "<table border=\"1\" class=\"dataframe\">\n",
       "  <thead>\n",
       "    <tr style=\"text-align: right;\">\n",
       "      <th></th>\n",
       "      <th>id</th>\n",
       "      <th>longitude</th>\n",
       "      <th>latitude</th>\n",
       "      <th>time</th>\n",
       "      <th>B1</th>\n",
       "      <th>B2</th>\n",
       "      <th>B3</th>\n",
       "      <th>B4</th>\n",
       "      <th>B5</th>\n",
       "      <th>B6</th>\n",
       "      <th>B7</th>\n",
       "      <th>B8</th>\n",
       "      <th>B9</th>\n",
       "      <th>B10</th>\n",
       "      <th>B11</th>\n",
       "      <th>BQA</th>\n",
       "    </tr>\n",
       "  </thead>\n",
       "  <tbody>\n",
       "    <tr>\n",
       "      <th>0</th>\n",
       "      <td>LC08_020031_20160111</td>\n",
       "      <td>-83.387688</td>\n",
       "      <td>41.793355</td>\n",
       "      <td>2016-01-11 16:16:37.839999914</td>\n",
       "      <td>0.218580</td>\n",
       "      <td>0.199685</td>\n",
       "      <td>0.183360</td>\n",
       "      <td>0.186232</td>\n",
       "      <td>0.098810</td>\n",
       "      <td>0.036682</td>\n",
       "      <td>0.023783</td>\n",
       "      <td>0.173484</td>\n",
       "      <td>0.003678</td>\n",
       "      <td>271.481140</td>\n",
       "      <td>270.124634</td>\n",
       "      <td>2720</td>\n",
       "    </tr>\n",
       "    <tr>\n",
       "      <th>1</th>\n",
       "      <td>LC08_020031_20160228</td>\n",
       "      <td>-83.387688</td>\n",
       "      <td>41.793355</td>\n",
       "      <td>2016-02-28 16:16:27.089999914</td>\n",
       "      <td>0.188696</td>\n",
       "      <td>0.170278</td>\n",
       "      <td>0.145608</td>\n",
       "      <td>0.116724</td>\n",
       "      <td>0.093957</td>\n",
       "      <td>0.063238</td>\n",
       "      <td>0.054539</td>\n",
       "      <td>0.130724</td>\n",
       "      <td>0.040947</td>\n",
       "      <td>263.341888</td>\n",
       "      <td>263.562561</td>\n",
       "      <td>6896</td>\n",
       "    </tr>\n",
       "    <tr>\n",
       "      <th>2</th>\n",
       "      <td>LC08_020031_20160315</td>\n",
       "      <td>-83.387688</td>\n",
       "      <td>41.793355</td>\n",
       "      <td>2016-03-15 16:16:23.039999962</td>\n",
       "      <td>0.682696</td>\n",
       "      <td>0.675816</td>\n",
       "      <td>0.633287</td>\n",
       "      <td>0.660329</td>\n",
       "      <td>0.708755</td>\n",
       "      <td>0.525208</td>\n",
       "      <td>0.418617</td>\n",
       "      <td>0.648535</td>\n",
       "      <td>0.052417</td>\n",
       "      <td>266.988983</td>\n",
       "      <td>264.588928</td>\n",
       "      <td>6896</td>\n",
       "    </tr>\n",
       "    <tr>\n",
       "      <th>3</th>\n",
       "      <td>LC08_020031_20160416</td>\n",
       "      <td>-83.387688</td>\n",
       "      <td>41.793355</td>\n",
       "      <td>2016-04-16 16:16:07.960000038</td>\n",
       "      <td>0.145753</td>\n",
       "      <td>0.133632</td>\n",
       "      <td>0.132498</td>\n",
       "      <td>0.108305</td>\n",
       "      <td>0.023972</td>\n",
       "      <td>0.005593</td>\n",
       "      <td>0.003597</td>\n",
       "      <td>0.120599</td>\n",
       "      <td>0.001429</td>\n",
       "      <td>280.994507</td>\n",
       "      <td>281.337280</td>\n",
       "      <td>2720</td>\n",
       "    </tr>\n",
       "    <tr>\n",
       "      <th>4</th>\n",
       "      <td>LC08_020031_20160518</td>\n",
       "      <td>-83.387688</td>\n",
       "      <td>41.793355</td>\n",
       "      <td>2016-05-18 16:16:08.140000105</td>\n",
       "      <td>0.145276</td>\n",
       "      <td>0.129563</td>\n",
       "      <td>0.117740</td>\n",
       "      <td>0.086001</td>\n",
       "      <td>0.042439</td>\n",
       "      <td>0.028502</td>\n",
       "      <td>0.023917</td>\n",
       "      <td>0.100814</td>\n",
       "      <td>0.001259</td>\n",
       "      <td>284.546478</td>\n",
       "      <td>284.015137</td>\n",
       "      <td>2720</td>\n",
       "    </tr>\n",
       "  </tbody>\n",
       "</table>\n",
       "</div>"
      ],
      "text/plain": [
       "                     id  longitude   latitude                          time  \\\n",
       "0  LC08_020031_20160111 -83.387688  41.793355 2016-01-11 16:16:37.839999914   \n",
       "1  LC08_020031_20160228 -83.387688  41.793355 2016-02-28 16:16:27.089999914   \n",
       "2  LC08_020031_20160315 -83.387688  41.793355 2016-03-15 16:16:23.039999962   \n",
       "3  LC08_020031_20160416 -83.387688  41.793355 2016-04-16 16:16:07.960000038   \n",
       "4  LC08_020031_20160518 -83.387688  41.793355 2016-05-18 16:16:08.140000105   \n",
       "\n",
       "         B1        B2        B3        B4        B5        B6        B7  \\\n",
       "0  0.218580  0.199685  0.183360  0.186232  0.098810  0.036682  0.023783   \n",
       "1  0.188696  0.170278  0.145608  0.116724  0.093957  0.063238  0.054539   \n",
       "2  0.682696  0.675816  0.633287  0.660329  0.708755  0.525208  0.418617   \n",
       "3  0.145753  0.133632  0.132498  0.108305  0.023972  0.005593  0.003597   \n",
       "4  0.145276  0.129563  0.117740  0.086001  0.042439  0.028502  0.023917   \n",
       "\n",
       "         B8        B9         B10         B11   BQA  \n",
       "0  0.173484  0.003678  271.481140  270.124634  2720  \n",
       "1  0.130724  0.040947  263.341888  263.562561  6896  \n",
       "2  0.648535  0.052417  266.988983  264.588928  6896  \n",
       "3  0.120599  0.001429  280.994507  281.337280  2720  \n",
       "4  0.100814  0.001259  284.546478  284.015137  2720  "
      ]
     },
     "execution_count": 18,
     "metadata": {},
     "output_type": "execute_result"
    }
   ],
   "source": [
    "#dfPoint.set_index(dfPoint['id'],drop=True,inplace=True)\n",
    "dfPoint.head()"
   ]
  },
  {
   "cell_type": "markdown",
   "metadata": {},
   "source": [
    "### Plot"
   ]
  },
  {
   "cell_type": "code",
   "execution_count": 28,
   "metadata": {},
   "outputs": [
    {
     "data": {
      "text/plain": [
       "<matplotlib.axes._subplots.AxesSubplot at 0x230567044e0>"
      ]
     },
     "execution_count": 28,
     "metadata": {},
     "output_type": "execute_result"
    },
    {
     "data": {
      "image/png": "[encoded data removed]",
      "text/plain": [
       "<Figure size 1440x576 with 1 Axes>"
      ]
     },
     "metadata": {},
     "output_type": "display_data"
    }
   ],
   "source": [
    "plt = dfPoint.set_index('time')[['B3','B4','B5']].plot(figsize=(20,8))\n",
    "plt"
   ]
  },
  {
   "cell_type": "code",
   "execution_count": 30,
   "metadata": {},
   "outputs": [],
   "source": [
    "b3 = l8_filtered.select('B3')"
   ]
  },
  {
   "cell_type": "code",
   "execution_count": 31,
   "metadata": {},
   "outputs": [],
   "source": [
    "b3_mean = b3.reduce('mean')"
   ]
  },
  {
   "cell_type": "code",
   "execution_count": 33,
   "metadata": {},
   "outputs": [
    {
     "data": {
      "text/plain": [
       "<ee.image.Image at 0x23056736b38>"
      ]
     },
     "execution_count": 33,
     "metadata": {},
     "output_type": "execute_result"
    }
   ],
   "source": [
    "b3_mean"
   ]
  },
  {
   "cell_type": "markdown",
   "metadata": {},
   "source": [
    "### Sort and select images"
   ]
  },
  {
   "cell_type": "code",
   "execution_count": 34,
   "metadata": {},
   "outputs": [],
   "source": [
    "sorted = temporalFiltered.sort('CLOUD_COVER')\n",
    "scene = ee.Image(sorted.first())"
   ]
  },
  {
   "cell_type": "code",
   "execution_count": 46,
   "metadata": {},
   "outputs": [
    {
     "data": {
      "text/html": [
       "<img src=\"https://earthengine.googleapis.com/api/thumb?thumbid=9a316ce335e4a25e33179c5278ef75e3&token=bbebdad9e491bbc3e515119758baf626\"/>"
      ],
      "text/plain": [
       "<IPython.core.display.Image object>"
      ]
     },
     "execution_count": 46,
     "metadata": {},
     "output_type": "execute_result"
    }
   ],
   "source": [
    "#True color\n",
    "Image(url=scene.getThumbURL({'bands':('B4,B3,B2'),'min':0,'max':0.3}))"
   ]
  },
  {
   "cell_type": "code",
   "execution_count": 49,
   "metadata": {},
   "outputs": [
    {
     "data": {
      "text/html": [
       "<img src=\"https://earthengine.googleapis.com/api/thumb?thumbid=36aa8b73d33395a343868d5971975fdf&token=4186c69cdcf132bbe77f6a4bb9a8ae49\"/>"
      ],
      "text/plain": [
       "<IPython.core.display.Image object>"
      ]
     },
     "execution_count": 49,
     "metadata": {},
     "output_type": "execute_result"
    }
   ],
   "source": [
    "#False color\n",
    "Image(url=scene.getThumbURL({'bands':('B5,B3,B4'),'min':0,'max':0.3}))"
   ]
  },
  {
   "cell_type": "code",
   "execution_count": null,
   "metadata": {},
   "outputs": [],
   "source": []
  }
 ],
 "metadata": {
  "kernelspec": {
   "display_name": "Python 3",
   "language": "python",
   "name": "python3"
  },
  "language_info": {
   "codemirror_mode": {
    "name": "ipython",
    "version": 3
   },
   "file_extension": ".py",
   "mimetype": "text/x-python",
   "name": "python",
   "nbconvert_exporter": "python",
   "pygments_lexer": "ipython3",
   "version": "3.5.5"
  }
 },
 "nbformat": 4,
 "nbformat_minor": 2
}
